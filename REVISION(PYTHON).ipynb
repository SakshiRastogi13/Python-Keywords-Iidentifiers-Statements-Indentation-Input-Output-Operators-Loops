{
  "nbformat": 4,
  "nbformat_minor": 0,
  "metadata": {
    "colab": {
      "name": "REVISION(PYTHON)",
      "provenance": [],
      "collapsed_sections": []
    },
    "kernelspec": {
      "name": "python3",
      "display_name": "Python 3"
    }
  },
  "cells": [
    {
      "cell_type": "markdown",
      "metadata": {
        "id": "mMTl_kM55IDy",
        "colab_type": "text"
      },
      "source": [
        "# KEYWORDS\n"
      ]
    },
    {
      "cell_type": "code",
      "metadata": {
        "id": "nxCDi2qh52dd",
        "colab_type": "code",
        "outputId": "3be2ec20-b3cd-4969-e1de-14a900bab1f1",
        "colab": {
          "base_uri": "https://localhost:8080/",
          "height": 70
        }
      },
      "source": [
        "# IMPORT:- We can make use of codes,libraries,functions present in small package or module \"KEYWORD\" in this code snippet\n",
        "import keyword\n",
        "# print the list of all keywords in python\n",
        "print(\"LIST OF KEYWORDS:-\",keyword.kwlist)\n",
        "# print the total number of keywords used in python\n",
        "print(\"TOTAL NUMBER OF KEYWORDS:- \",len(keyword.kwlist))\n"
      ],
      "execution_count": 0,
      "outputs": [
        {
          "output_type": "stream",
          "text": [
            "LIST OF KEYWORDS:- ['False', 'None', 'True', 'and', 'as', 'assert', 'break', 'class', 'continue', 'def', 'del', 'elif', 'else', 'except', 'finally', 'for', 'from', 'global', 'if', 'import', 'in', 'is', 'lambda', 'nonlocal', 'not', 'or', 'pass', 'raise', 'return', 'try', 'while', 'with', 'yield']\n",
            "TOTAL NUMBER OF KEYWORDS:-  33\n"
          ],
          "name": "stdout"
        }
      ]
    },
    {
      "cell_type": "markdown",
      "metadata": {
        "id": "yB1-tB-Y6uMn",
        "colab_type": "text"
      },
      "source": [
        "# VALID IDENTIFIERS"
      ]
    },
    {
      "cell_type": "code",
      "metadata": {
        "id": "5nsA4Ss36r49",
        "colab_type": "code",
        "outputId": "38a8e299-19f8-44c4-b5d7-467daa19e02a",
        "colab": {
          "base_uri": "https://localhost:8080/",
          "height": 67
        }
      },
      "source": [
        "global_12=1\n",
        "_123=\"abc\"\n",
        "L1234= 1000\n",
        "print(global_12)\n",
        "print(_123)\n",
        "print(L1234)"
      ],
      "execution_count": 0,
      "outputs": [
        {
          "output_type": "stream",
          "text": [
            "1\n",
            "abc\n",
            "1000\n"
          ],
          "name": "stdout"
        }
      ]
    },
    {
      "cell_type": "markdown",
      "metadata": {
        "id": "DAAXibxt7fXv",
        "colab_type": "text"
      },
      "source": [
        "# INVALID IDENTIFIERS"
      ]
    },
    {
      "cell_type": "code",
      "metadata": {
        "id": "ToVPi2Fj7cd-",
        "colab_type": "code",
        "outputId": "feb415e3-1cad-4509-9fab-bd8d73441b5a",
        "colab": {
          "base_uri": "https://localhost:8080/",
          "height": 128
        }
      },
      "source": [
        "global=123\n",
        "12_abc=456\n",
        "A_34%=213\n",
        "print(global)"
      ],
      "execution_count": 0,
      "outputs": [
        {
          "output_type": "error",
          "ename": "SyntaxError",
          "evalue": "ignored",
          "traceback": [
            "\u001b[0;36m  File \u001b[0;32m\"<ipython-input-5-a798eaac84fd>\"\u001b[0;36m, line \u001b[0;32m1\u001b[0m\n\u001b[0;31m    global=123\u001b[0m\n\u001b[0m          ^\u001b[0m\n\u001b[0;31mSyntaxError\u001b[0m\u001b[0;31m:\u001b[0m invalid syntax\n"
          ]
        }
      ]
    },
    {
      "cell_type": "code",
      "metadata": {
        "id": "KEl1_E4u7wgn",
        "colab_type": "code",
        "outputId": "eaf5b9e7-a65c-4e62-9741-3d030d26025c",
        "colab": {
          "base_uri": "https://localhost:8080/",
          "height": 128
        }
      },
      "source": [
        "print(12_abc)"
      ],
      "execution_count": 0,
      "outputs": [
        {
          "output_type": "error",
          "ename": "SyntaxError",
          "evalue": "ignored",
          "traceback": [
            "\u001b[0;36m  File \u001b[0;32m\"<ipython-input-6-688b0febb5a7>\"\u001b[0;36m, line \u001b[0;32m1\u001b[0m\n\u001b[0;31m    print(12_abc)\u001b[0m\n\u001b[0m            ^\u001b[0m\n\u001b[0;31mSyntaxError\u001b[0m\u001b[0;31m:\u001b[0m invalid token\n"
          ]
        }
      ]
    },
    {
      "cell_type": "code",
      "metadata": {
        "id": "V_lf77H6-SNs",
        "colab_type": "code",
        "outputId": "ee3e5867-98b6-4969-ee2d-7cfd106c6622",
        "colab": {
          "base_uri": "https://localhost:8080/",
          "height": 128
        }
      },
      "source": [
        "\n",
        "print(A_34%)"
      ],
      "execution_count": 0,
      "outputs": [
        {
          "output_type": "error",
          "ename": "SyntaxError",
          "evalue": "ignored",
          "traceback": [
            "\u001b[0;36m  File \u001b[0;32m\"<ipython-input-7-d6977cf03903>\"\u001b[0;36m, line \u001b[0;32m2\u001b[0m\n\u001b[0;31m    print(A_34%)\u001b[0m\n\u001b[0m               ^\u001b[0m\n\u001b[0;31mSyntaxError\u001b[0m\u001b[0;31m:\u001b[0m invalid syntax\n"
          ]
        }
      ]
    },
    {
      "cell_type": "markdown",
      "metadata": {
        "id": "hhoC_Rtd-eXq",
        "colab_type": "text"
      },
      "source": [
        "#SINGLE LINE COMMENTS"
      ]
    },
    {
      "cell_type": "code",
      "metadata": {
        "id": "TJCIHV7L-SyS",
        "colab_type": "code",
        "outputId": "ab1c9f8d-98e5-44ca-d8f9-7382a9ab85bb",
        "colab": {
          "base_uri": "https://localhost:8080/",
          "height": 34
        }
      },
      "source": [
        "# PRINT HELLO WORLD\n",
        "print(\"HELLO WORLD\")"
      ],
      "execution_count": 0,
      "outputs": [
        {
          "output_type": "stream",
          "text": [
            "HELLO WORLD\n"
          ],
          "name": "stdout"
        }
      ]
    },
    {
      "cell_type": "markdown",
      "metadata": {
        "id": "cUVptA-o_JFA",
        "colab_type": "text"
      },
      "source": [
        "# DOUBLE LINE COMMENTS"
      ]
    },
    {
      "cell_type": "code",
      "metadata": {
        "id": "1vwF-lG0_ILK",
        "colab_type": "code",
        "colab": {}
      },
      "source": [
        "# This is a comment\n",
        "# that extends in \n",
        "# multiple lines"
      ],
      "execution_count": 0,
      "outputs": []
    },
    {
      "cell_type": "code",
      "metadata": {
        "id": "i6EGGksM_ku_",
        "colab_type": "code",
        "colab": {}
      },
      "source": [
        "\"\"\"This is a comment that extends in multiple lines\"\"\""
      ],
      "execution_count": 0,
      "outputs": []
    },
    {
      "cell_type": "code",
      "metadata": {
        "id": "ehCDHXZb_08n",
        "colab_type": "code",
        "colab": {}
      },
      "source": [
        "'''This is a comment that extends in multiple lines'''"
      ],
      "execution_count": 0,
      "outputs": []
    },
    {
      "cell_type": "markdown",
      "metadata": {
        "id": "qahe23XMADix",
        "colab_type": "text"
      },
      "source": [
        "# INDENTATION"
      ]
    },
    {
      "cell_type": "code",
      "metadata": {
        "id": "EgwxB0ntAGSa",
        "colab_type": "code",
        "outputId": "da1d5602-fcd8-474f-d6f3-644db1c86a28",
        "colab": {
          "base_uri": "https://localhost:8080/",
          "height": 168
        }
      },
      "source": [
        "for i in range(1,10):\n",
        "  print(i)"
      ],
      "execution_count": 0,
      "outputs": [
        {
          "output_type": "stream",
          "text": [
            "1\n",
            "2\n",
            "3\n",
            "4\n",
            "5\n",
            "6\n",
            "7\n",
            "8\n",
            "9\n"
          ],
          "name": "stdout"
        }
      ]
    },
    {
      "cell_type": "markdown",
      "metadata": {
        "id": "yM9_NLKKAK5N",
        "colab_type": "text"
      },
      "source": [
        "# UNINDENTATION"
      ]
    },
    {
      "cell_type": "code",
      "metadata": {
        "id": "_arAbP_9AJfj",
        "colab_type": "code",
        "outputId": "420e331c-b9ee-4960-97ff-defcc2b7d4e7",
        "colab": {
          "base_uri": "https://localhost:8080/",
          "height": 128
        }
      },
      "source": [
        "for i in range(1,10):\n",
        "\n",
        "print(100)"
      ],
      "execution_count": 0,
      "outputs": [
        {
          "output_type": "error",
          "ename": "IndentationError",
          "evalue": "ignored",
          "traceback": [
            "\u001b[0;36m  File \u001b[0;32m\"<ipython-input-11-7a1de4f871ad>\"\u001b[0;36m, line \u001b[0;32m3\u001b[0m\n\u001b[0;31m    print(100)\u001b[0m\n\u001b[0m        ^\u001b[0m\n\u001b[0;31mIndentationError\u001b[0m\u001b[0;31m:\u001b[0m expected an indented block\n"
          ]
        }
      ]
    },
    {
      "cell_type": "markdown",
      "metadata": {
        "id": "7HJ1bK0CAhGa",
        "colab_type": "text"
      },
      "source": [
        "# INDENTATION AND UNINDENTATION"
      ]
    },
    {
      "cell_type": "code",
      "metadata": {
        "id": "6DtgcBUTAUpF",
        "colab_type": "code",
        "outputId": "9a3ffe85-d00c-4a09-b736-83b6453192c3",
        "colab": {
          "base_uri": "https://localhost:8080/",
          "height": 336
        }
      },
      "source": [
        "for i in range(1,10):\n",
        "  print(i)\n",
        "  print(i**2)\n",
        "print(100) "
      ],
      "execution_count": 0,
      "outputs": [
        {
          "output_type": "stream",
          "text": [
            "1\n",
            "1\n",
            "2\n",
            "4\n",
            "3\n",
            "9\n",
            "4\n",
            "16\n",
            "5\n",
            "25\n",
            "6\n",
            "36\n",
            "7\n",
            "49\n",
            "8\n",
            "64\n",
            "9\n",
            "81\n",
            "100\n"
          ],
          "name": "stdout"
        }
      ]
    },
    {
      "cell_type": "markdown",
      "metadata": {
        "id": "-rx3tt0kBBms",
        "colab_type": "text"
      },
      "source": [
        "# INDENTATION"
      ]
    },
    {
      "cell_type": "code",
      "metadata": {
        "id": "svehFTb1A3Ri",
        "colab_type": "code",
        "colab": {}
      },
      "source": [
        "if(True):\n",
        "  print(\"MACHINE LEARNING\")\n",
        "  c=\"AAIC\""
      ],
      "execution_count": 0,
      "outputs": []
    },
    {
      "cell_type": "markdown",
      "metadata": {
        "id": "B7EeiztLBP8V",
        "colab_type": "text"
      },
      "source": [
        "# UNINDENTATION IN A SINGLE LINE"
      ]
    },
    {
      "cell_type": "code",
      "metadata": {
        "id": "sJjzEIDWBVkz",
        "colab_type": "code",
        "colab": {}
      },
      "source": [
        "if(True):print(\"MACHINE LEARNING\");c=\"AAIC\""
      ],
      "execution_count": 0,
      "outputs": []
    },
    {
      "cell_type": "markdown",
      "metadata": {
        "id": "H-kUz9YIBeYD",
        "colab_type": "text"
      },
      "source": [
        "# SINGLE LINE STATEMENT"
      ]
    },
    {
      "cell_type": "code",
      "metadata": {
        "id": "ZJbNLDCABgvj",
        "colab_type": "code",
        "colab": {}
      },
      "source": [
        "A=1"
      ],
      "execution_count": 0,
      "outputs": []
    },
    {
      "cell_type": "markdown",
      "metadata": {
        "id": "ziYeY0ASBh_k",
        "colab_type": "text"
      },
      "source": [
        "# MULTI-LINE STATEMENT"
      ]
    },
    {
      "cell_type": "code",
      "metadata": {
        "id": "Y15ZlAhyBk08",
        "colab_type": "code",
        "outputId": "5b3401f1-72d3-4aec-89bd-1abbd3289a56",
        "colab": {
          "base_uri": "https://localhost:8080/",
          "height": 34
        }
      },
      "source": [
        "a=1+2+3+\\\n",
        "  4+5+6+\\\n",
        "  7+8\n",
        "print(a)"
      ],
      "execution_count": 0,
      "outputs": [
        {
          "output_type": "stream",
          "text": [
            "36\n"
          ],
          "name": "stdout"
        }
      ]
    },
    {
      "cell_type": "code",
      "metadata": {
        "id": "qNh4EPr-Bq0q",
        "colab_type": "code",
        "outputId": "b2d83bb1-9bcb-4100-9490-1d448b7dc896",
        "colab": {
          "base_uri": "https://localhost:8080/",
          "height": 34
        }
      },
      "source": [
        "a=(1+2+3+\n",
        "   4+5+6+\n",
        "   7+8)\n",
        "print(a)"
      ],
      "execution_count": 0,
      "outputs": [
        {
          "output_type": "stream",
          "text": [
            "36\n"
          ],
          "name": "stdout"
        }
      ]
    },
    {
      "cell_type": "markdown",
      "metadata": {
        "id": "RpN_g4CWB0K8",
        "colab_type": "text"
      },
      "source": [
        "# MULTIPLE STATEMENTS IN A SINGLE LINE"
      ]
    },
    {
      "cell_type": "code",
      "metadata": {
        "id": "Ffn5bhZaBxNy",
        "colab_type": "code",
        "colab": {}
      },
      "source": [
        "a=12;b=13;c=14"
      ],
      "execution_count": 0,
      "outputs": []
    },
    {
      "cell_type": "markdown",
      "metadata": {
        "id": "nAYTitLAkTuo",
        "colab_type": "text"
      },
      "source": [
        "# PYTHON OUTPUT"
      ]
    },
    {
      "cell_type": "code",
      "metadata": {
        "id": "x3EBJEnXkWOY",
        "colab_type": "code",
        "outputId": "f0c1474b-8adb-4967-dbb8-ed15876da6fc",
        "colab": {
          "base_uri": "https://localhost:8080/",
          "height": 34
        }
      },
      "source": [
        "print(\"HELLO SAKSHI!!!!\")"
      ],
      "execution_count": 0,
      "outputs": [
        {
          "output_type": "stream",
          "text": [
            "HELLO SAKSHI!!!!\n"
          ],
          "name": "stdout"
        }
      ]
    },
    {
      "cell_type": "code",
      "metadata": {
        "id": "3gUeuGPnkYpJ",
        "colab_type": "code",
        "outputId": "c7b34d20-6504-406d-cd32-00753a66e7b0",
        "colab": {
          "base_uri": "https://localhost:8080/",
          "height": 34
        }
      },
      "source": [
        "age=19\n",
        "print(\"My age is\",age)"
      ],
      "execution_count": 0,
      "outputs": [
        {
          "output_type": "stream",
          "text": [
            "My age is 19\n"
          ],
          "name": "stdout"
        }
      ]
    },
    {
      "cell_type": "code",
      "metadata": {
        "id": "vIMbAqsZkrNB",
        "colab_type": "code",
        "outputId": "975e8a2b-b29d-48d1-9b94-690e98f49a00",
        "colab": {
          "base_uri": "https://localhost:8080/",
          "height": 34
        }
      },
      "source": [
        "name=\"Sakshi\"\n",
        "print(\"My name is \"+name)"
      ],
      "execution_count": 0,
      "outputs": [
        {
          "output_type": "stream",
          "text": [
            "My name is Sakshi\n"
          ],
          "name": "stdout"
        }
      ]
    },
    {
      "cell_type": "markdown",
      "metadata": {
        "id": "O_50xj_OllRh",
        "colab_type": "text"
      },
      "source": [
        "# OUTPUT FORMATTING"
      ]
    },
    {
      "cell_type": "code",
      "metadata": {
        "id": "3s5Norg8kwJT",
        "colab_type": "code",
        "outputId": "3d732cbc-8625-4e98-8a02-069337f7936a",
        "colab": {
          "base_uri": "https://localhost:8080/",
          "height": 34
        }
      },
      "source": [
        "a=10;b=20\n",
        "print(\"The value of a is {} and b is {}\".format(100,200))"
      ],
      "execution_count": 0,
      "outputs": [
        {
          "output_type": "stream",
          "text": [
            "The value of a is 100 and b is 200\n"
          ],
          "name": "stdout"
        }
      ]
    },
    {
      "cell_type": "code",
      "metadata": {
        "id": "fO6KA_izl1Xl",
        "colab_type": "code",
        "outputId": "a54ba81e-f568-43aa-9149-943b5317cb15",
        "colab": {
          "base_uri": "https://localhost:8080/",
          "height": 34
        }
      },
      "source": [
        "print(\"The value of a is {} and b is {}\".format(200,100))"
      ],
      "execution_count": 0,
      "outputs": [
        {
          "output_type": "stream",
          "text": [
            "The value of a is 200 and b is 100\n"
          ],
          "name": "stdout"
        }
      ]
    },
    {
      "cell_type": "code",
      "metadata": {
        "id": "bbPPyEiYmEqC",
        "colab_type": "code",
        "outputId": "ad42b098-924e-4710-8d91-f30566e20b8e",
        "colab": {
          "base_uri": "https://localhost:8080/",
          "height": 34
        }
      },
      "source": [
        "print(\"The value of a is {0} and b is {1}\".format(a,b))"
      ],
      "execution_count": 0,
      "outputs": [
        {
          "output_type": "stream",
          "text": [
            "The value of a is 10 and b is 20\n"
          ],
          "name": "stdout"
        }
      ]
    },
    {
      "cell_type": "code",
      "metadata": {
        "id": "PhHDauB-mNJZ",
        "colab_type": "code",
        "outputId": "c3d34b2c-8e98-4cba-f348-8b4ff67acfae",
        "colab": {
          "base_uri": "https://localhost:8080/",
          "height": 34
        }
      },
      "source": [
        "print(\"The value of a is {1} and b is {0}\".format(a,b))"
      ],
      "execution_count": 0,
      "outputs": [
        {
          "output_type": "stream",
          "text": [
            "The value of a is 20 and b is 10\n"
          ],
          "name": "stdout"
        }
      ]
    },
    {
      "cell_type": "code",
      "metadata": {
        "id": "d0FW9ksamRpj",
        "colab_type": "code",
        "outputId": "074a9738-3f76-4ae1-c278-b6745659a639",
        "colab": {
          "base_uri": "https://localhost:8080/",
          "height": 34
        }
      },
      "source": [
        "print(\"My name is {name} and {greetings}\".format(name=\"Sakshi\",greetings=\"NICE TO MEET U!!!\"))"
      ],
      "execution_count": 0,
      "outputs": [
        {
          "output_type": "stream",
          "text": [
            "My name is Sakshi and NICE TO MEET U!!!\n"
          ],
          "name": "stdout"
        }
      ]
    },
    {
      "cell_type": "code",
      "metadata": {
        "id": "b3P1eXumme4i",
        "colab_type": "code",
        "outputId": "6949a89e-a6d9-4501-afc6-7a247071c191",
        "colab": {
          "base_uri": "https://localhost:8080/",
          "height": 34
        }
      },
      "source": [
        "print(\"My name is {0} and {greetings}\".format(\"Sakshi\",greetings=\"NICE TO MEET U!!!\"))"
      ],
      "execution_count": 0,
      "outputs": [
        {
          "output_type": "stream",
          "text": [
            "My name is Sakshi and NICE TO MEET U!!!\n"
          ],
          "name": "stdout"
        }
      ]
    },
    {
      "cell_type": "markdown",
      "metadata": {
        "id": "-bdaAJQ_m48U",
        "colab_type": "text"
      },
      "source": [
        "# PYTHON INPUT"
      ]
    },
    {
      "cell_type": "code",
      "metadata": {
        "id": "EhSfhmLVmsai",
        "colab_type": "code",
        "outputId": "a2c727d0-9f49-46d4-f769-1abe2ec03f80",
        "colab": {
          "base_uri": "https://localhost:8080/",
          "height": 50
        }
      },
      "source": [
        "num=input(\"Enter a number:-\")\n",
        "print(num)"
      ],
      "execution_count": 0,
      "outputs": [
        {
          "output_type": "stream",
          "text": [
            "Enter a number:-12\n",
            "12\n"
          ],
          "name": "stdout"
        }
      ]
    },
    {
      "cell_type": "markdown",
      "metadata": {
        "id": "-8L5elYqnMFj",
        "colab_type": "text"
      },
      "source": [
        "# ARITHMETIC OPERATORS"
      ]
    },
    {
      "cell_type": "code",
      "metadata": {
        "id": "QwFguVvxm_EH",
        "colab_type": "code",
        "outputId": "2e36b51a-072c-4339-96b5-e073e297b807",
        "colab": {
          "base_uri": "https://localhost:8080/",
          "height": 134
        }
      },
      "source": [
        "x=10;y=20\n",
        "print(x+y)\n",
        "print(x-y)\n",
        "print(x*y)\n",
        "print(x/y)\n",
        "print(x%y)\n",
        "print(x**y)\n",
        "print(x//y)"
      ],
      "execution_count": 0,
      "outputs": [
        {
          "output_type": "stream",
          "text": [
            "30\n",
            "-10\n",
            "200\n",
            "0.5\n",
            "10\n",
            "100000000000000000000\n",
            "0\n"
          ],
          "name": "stdout"
        }
      ]
    },
    {
      "cell_type": "markdown",
      "metadata": {
        "id": "c3AY4sf8n3PB",
        "colab_type": "text"
      },
      "source": [
        "# COMPARISON OPERATORS"
      ]
    },
    {
      "cell_type": "code",
      "metadata": {
        "id": "AdwwLnbwnxX-",
        "colab_type": "code",
        "outputId": "816bc268-be74-45f6-c189-b2dd461b694f",
        "colab": {
          "base_uri": "https://localhost:8080/",
          "height": 118
        }
      },
      "source": [
        "x=10;y=20\n",
        "print(x<y)\n",
        "print(x>y)\n",
        "print(x==y)\n",
        "print(x<=y)\n",
        "print(x>=y)\n",
        "print(x!=y)"
      ],
      "execution_count": 0,
      "outputs": [
        {
          "output_type": "stream",
          "text": [
            "True\n",
            "False\n",
            "False\n",
            "True\n",
            "False\n",
            "True\n"
          ],
          "name": "stdout"
        }
      ]
    },
    {
      "cell_type": "markdown",
      "metadata": {
        "id": "pa4TNlUzoNr7",
        "colab_type": "text"
      },
      "source": [
        "# LOGICAL OPERATORS"
      ]
    },
    {
      "cell_type": "code",
      "metadata": {
        "id": "W1qNrdwjoH8M",
        "colab_type": "code",
        "outputId": "843867ee-8459-4bb3-bc71-f8afaaaa38a2",
        "colab": {
          "base_uri": "https://localhost:8080/",
          "height": 67
        }
      },
      "source": [
        "a=True\n",
        "b=False\n",
        "print(a and b)\n",
        "print(a or b)\n",
        "print(not a)"
      ],
      "execution_count": 0,
      "outputs": [
        {
          "output_type": "stream",
          "text": [
            "False\n",
            "True\n",
            "False\n"
          ],
          "name": "stdout"
        }
      ]
    },
    {
      "cell_type": "markdown",
      "metadata": {
        "id": "2so3ZBP5pCCH",
        "colab_type": "text"
      },
      "source": [
        "# BITWISE OPERATORS"
      ]
    },
    {
      "cell_type": "code",
      "metadata": {
        "id": "ZLljRcVToWVe",
        "colab_type": "code",
        "outputId": "8f009df0-c953-4b96-c7ee-a67bced581fd",
        "colab": {
          "base_uri": "https://localhost:8080/",
          "height": 118
        }
      },
      "source": [
        "a=10\n",
        "b=20\n",
        "print(a>>b)\n",
        "print(a<<b)\n",
        "print(a&b)\n",
        "print(a|b)\n",
        "print(a^b)\n",
        "print(~a)"
      ],
      "execution_count": 0,
      "outputs": [
        {
          "output_type": "stream",
          "text": [
            "0\n",
            "10485760\n",
            "0\n",
            "30\n",
            "30\n",
            "-11\n"
          ],
          "name": "stdout"
        }
      ]
    },
    {
      "cell_type": "markdown",
      "metadata": {
        "id": "69imKFtdpo2e",
        "colab_type": "text"
      },
      "source": [
        "# ASSIGNMENT OPERATOR"
      ]
    },
    {
      "cell_type": "code",
      "metadata": {
        "id": "zjilzxHcphlQ",
        "colab_type": "code",
        "outputId": "d68fd8d0-cad6-4b29-848c-9fcdf3135848",
        "colab": {
          "base_uri": "https://localhost:8080/",
          "height": 134
        }
      },
      "source": [
        "a=10\n",
        "a+=10\n",
        "print(a)\n",
        "a-=5\n",
        "print(a)\n",
        "a*=30\n",
        "print(a)\n",
        "a/=30\n",
        "print(a)\n",
        "a%=40\n",
        "print(a)\n",
        "a//=10\n",
        "print(a)\n",
        "a**=2\n",
        "print(a)\n",
        "#a^=50\n",
        "#print(a)\n",
        "#a&=25\n",
        "#print(a)\n",
        "#a|=15\n",
        "#print(a)\n",
        "#a<<=45\n",
        "#print(a)\n",
        "#a>>=89\n",
        "#print(a)"
      ],
      "execution_count": 0,
      "outputs": [
        {
          "output_type": "stream",
          "text": [
            "20\n",
            "15\n",
            "450\n",
            "15.0\n",
            "15.0\n",
            "1.0\n",
            "1.0\n"
          ],
          "name": "stdout"
        }
      ]
    },
    {
      "cell_type": "markdown",
      "metadata": {
        "id": "2LxhkdV4rVhe",
        "colab_type": "text"
      },
      "source": [
        "# IDENTITY OPERATORS "
      ]
    },
    {
      "cell_type": "code",
      "metadata": {
        "id": "ZIwPwhy-pRd6",
        "colab_type": "code",
        "outputId": "ac1d2373-4e46-4331-bfbd-b48e60653db9",
        "colab": {
          "base_uri": "https://localhost:8080/",
          "height": 34
        }
      },
      "source": [
        "a=5\n",
        "b=5\n",
        "print(a is b)"
      ],
      "execution_count": 0,
      "outputs": [
        {
          "output_type": "stream",
          "text": [
            "True\n"
          ],
          "name": "stdout"
        }
      ]
    },
    {
      "cell_type": "code",
      "metadata": {
        "id": "Jh4U59VDrily",
        "colab_type": "code",
        "outputId": "7c738ce9-cffe-463b-bb79-0c5d24b11732",
        "colab": {
          "base_uri": "https://localhost:8080/",
          "height": 34
        }
      },
      "source": [
        "print(a is not b)"
      ],
      "execution_count": 0,
      "outputs": [
        {
          "output_type": "stream",
          "text": [
            "False\n"
          ],
          "name": "stdout"
        }
      ]
    },
    {
      "cell_type": "code",
      "metadata": {
        "id": "5pRFg8sorkGY",
        "colab_type": "code",
        "outputId": "375d11b9-2478-42dc-b108-d5d296ac490a",
        "colab": {
          "base_uri": "https://localhost:8080/",
          "height": 34
        }
      },
      "source": [
        "a1=[1,2,3,4]\n",
        "b1=[1,2,3,4]\n",
        "print(a1 is b1)"
      ],
      "execution_count": 0,
      "outputs": [
        {
          "output_type": "stream",
          "text": [
            "False\n"
          ],
          "name": "stdout"
        }
      ]
    },
    {
      "cell_type": "code",
      "metadata": {
        "id": "JAtykDghrpFu",
        "colab_type": "code",
        "outputId": "4da0b230-0986-4a32-aee8-84651c95c346",
        "colab": {
          "base_uri": "https://localhost:8080/",
          "height": 34
        }
      },
      "source": [
        "print(a1 is not b1)"
      ],
      "execution_count": 0,
      "outputs": [
        {
          "output_type": "stream",
          "text": [
            "True\n"
          ],
          "name": "stdout"
        }
      ]
    },
    {
      "cell_type": "code",
      "metadata": {
        "id": "9hvumefGsNXY",
        "colab_type": "code",
        "outputId": "e0ea8471-08fd-4533-adba-a4be33cbd3ea",
        "colab": {
          "base_uri": "https://localhost:8080/",
          "height": 34
        }
      },
      "source": [
        "a2=\"AAIC\"\n",
        "b2=\"AAIC\"\n",
        "print(a2 is b2)"
      ],
      "execution_count": 0,
      "outputs": [
        {
          "output_type": "stream",
          "text": [
            "True\n"
          ],
          "name": "stdout"
        }
      ]
    },
    {
      "cell_type": "code",
      "metadata": {
        "id": "eFTZN0wCssuM",
        "colab_type": "code",
        "outputId": "5ea570d8-0b21-4fc1-a459-0b574b8f8bd9",
        "colab": {
          "base_uri": "https://localhost:8080/",
          "height": 34
        }
      },
      "source": [
        "print(a2 is not b2)"
      ],
      "execution_count": 0,
      "outputs": [
        {
          "output_type": "stream",
          "text": [
            "False\n"
          ],
          "name": "stdout"
        }
      ]
    },
    {
      "cell_type": "markdown",
      "metadata": {
        "id": "WgIPiqDjtc7h",
        "colab_type": "text"
      },
      "source": [
        "# MEMBERSHIP OPERATORS"
      ]
    },
    {
      "cell_type": "code",
      "metadata": {
        "id": "pl2d7nSesumx",
        "colab_type": "code",
        "outputId": "69823042-2033-4718-c3b8-a7796c50555c",
        "colab": {
          "base_uri": "https://localhost:8080/",
          "height": 50
        }
      },
      "source": [
        "l=[1,2,3,4]\n",
        "print(1 in l)\n",
        "print(9 in l)"
      ],
      "execution_count": 0,
      "outputs": [
        {
          "output_type": "stream",
          "text": [
            "True\n",
            "False\n"
          ],
          "name": "stdout"
        }
      ]
    },
    {
      "cell_type": "code",
      "metadata": {
        "id": "aTEfdpb8tk8-",
        "colab_type": "code",
        "outputId": "353f6ab4-c9df-4121-a745-2abebe4a009c",
        "colab": {
          "base_uri": "https://localhost:8080/",
          "height": 34
        }
      },
      "source": [
        "d={1:\"A\",2:\"B\"}\n",
        "print(1 in d)"
      ],
      "execution_count": 0,
      "outputs": [
        {
          "output_type": "stream",
          "text": [
            "True\n"
          ],
          "name": "stdout"
        }
      ]
    },
    {
      "cell_type": "code",
      "metadata": {
        "id": "Lv464pcCts2X",
        "colab_type": "code",
        "outputId": "b5f96df1-c332-4369-ca40-7688d7fc2e3e",
        "colab": {
          "base_uri": "https://localhost:8080/",
          "height": 34
        }
      },
      "source": [
        "print(\"A\" in d)"
      ],
      "execution_count": 0,
      "outputs": [
        {
          "output_type": "stream",
          "text": [
            "False\n"
          ],
          "name": "stdout"
        }
      ]
    },
    {
      "cell_type": "code",
      "metadata": {
        "id": "qxLjJI3EtvJ3",
        "colab_type": "code",
        "outputId": "adb8f432-163b-4fe2-9751-612f1fd81499",
        "colab": {
          "base_uri": "https://localhost:8080/",
          "height": 34
        }
      },
      "source": [
        "print(3 in d)"
      ],
      "execution_count": 0,
      "outputs": [
        {
          "output_type": "stream",
          "text": [
            "False\n"
          ],
          "name": "stdout"
        }
      ]
    },
    {
      "cell_type": "markdown",
      "metadata": {
        "id": "PIGyL9qnuOk0",
        "colab_type": "text"
      },
      "source": [
        "# IF STATEMENT"
      ]
    },
    {
      "cell_type": "code",
      "metadata": {
        "id": "9vHNO4w_twhe",
        "colab_type": "code",
        "outputId": "9bde38d4-fadd-4ed4-b461-668a1a0c3cbc",
        "colab": {
          "base_uri": "https://localhost:8080/",
          "height": 34
        }
      },
      "source": [
        "num=10\n",
        "if (num>10):\n",
        "  print(\"EQUAL TO 10\")\n",
        "print(\"GREATER OR LESS THAN 10\")"
      ],
      "execution_count": 0,
      "outputs": [
        {
          "output_type": "stream",
          "text": [
            "GREATER OR LESS THAN 10\n"
          ],
          "name": "stdout"
        }
      ]
    },
    {
      "cell_type": "code",
      "metadata": {
        "id": "UslbrX8IueW3",
        "colab_type": "code",
        "outputId": "a9f16f1e-8509-4a6a-e522-57a63b05b72a",
        "colab": {
          "base_uri": "https://localhost:8080/",
          "height": 34
        }
      },
      "source": [
        "num=10\n",
        "if (num<10):\n",
        "  print(\"EQUAL TO 10\")\n",
        "print(\"GREATER OR LESS THAN 10\")"
      ],
      "execution_count": 0,
      "outputs": [
        {
          "output_type": "stream",
          "text": [
            "GREATER OR LESS THAN 10\n"
          ],
          "name": "stdout"
        }
      ]
    },
    {
      "cell_type": "code",
      "metadata": {
        "id": "U8G_OtJiusB4",
        "colab_type": "code",
        "outputId": "f1bf3546-e36d-4232-d07d-9e1781cbf46f",
        "colab": {
          "base_uri": "https://localhost:8080/",
          "height": 50
        }
      },
      "source": [
        "num=10\n",
        "if (num==10):\n",
        "  print(\"EQUAL TO 10\")\n",
        "print(\"GREATER OR LESS THAN 10\")"
      ],
      "execution_count": 0,
      "outputs": [
        {
          "output_type": "stream",
          "text": [
            "EQUAL TO 10\n",
            "GREATER OR LESS THAN 10\n"
          ],
          "name": "stdout"
        }
      ]
    },
    {
      "cell_type": "code",
      "metadata": {
        "id": "9OgwtjTxvHej",
        "colab_type": "code",
        "outputId": "06710107-b19e-49a1-d842-98c88def24aa",
        "colab": {
          "base_uri": "https://localhost:8080/",
          "height": 34
        }
      },
      "source": [
        "num=10\n",
        "if (num-10):\n",
        "  print(\"EQUAL TO 10\")\n",
        "print(\"GREATER OR LESS THAN 10\")"
      ],
      "execution_count": 0,
      "outputs": [
        {
          "output_type": "stream",
          "text": [
            "GREATER OR LESS THAN 10\n"
          ],
          "name": "stdout"
        }
      ]
    },
    {
      "cell_type": "code",
      "metadata": {
        "id": "UJRUmBtGvO-n",
        "colab_type": "code",
        "outputId": "530ef3ff-b611-483c-f1cb-6063a8774c37",
        "colab": {
          "base_uri": "https://localhost:8080/",
          "height": 50
        }
      },
      "source": [
        "num=10\n",
        "if -1:\n",
        "  print(\"EQUAL TO 10\")\n",
        "print(\"GREATER OR LESS THAN 10\")"
      ],
      "execution_count": 0,
      "outputs": [
        {
          "output_type": "stream",
          "text": [
            "EQUAL TO 10\n",
            "GREATER OR LESS THAN 10\n"
          ],
          "name": "stdout"
        }
      ]
    },
    {
      "cell_type": "code",
      "metadata": {
        "id": "YdZLCca_vRP9",
        "colab_type": "code",
        "outputId": "d234eac3-5aff-4ecc-f019-3ebf60352115",
        "colab": {
          "base_uri": "https://localhost:8080/",
          "height": 34
        }
      },
      "source": [
        "num=10\n",
        "if None:\n",
        "  print(\"EQUAL TO 10\")\n",
        "print(\"GREATER OR LESS THAN 10\")"
      ],
      "execution_count": 0,
      "outputs": [
        {
          "output_type": "stream",
          "text": [
            "GREATER OR LESS THAN 10\n"
          ],
          "name": "stdout"
        }
      ]
    },
    {
      "cell_type": "markdown",
      "metadata": {
        "id": "lMVio5aAyhSJ",
        "colab_type": "text"
      },
      "source": [
        "# LARGEST NUMBER AMONGST THREE NUMBERS"
      ]
    },
    {
      "cell_type": "code",
      "metadata": {
        "id": "IYwQPKdvvWHJ",
        "colab_type": "code",
        "outputId": "a2ade323-35ab-4393-9b6c-f09820cb222f",
        "colab": {
          "base_uri": "https://localhost:8080/",
          "height": 34
        }
      },
      "source": [
        "a=10\n",
        "b=20\n",
        "c=30\n",
        "if(a>b and a>c):\n",
        "  print(a,\"is the largest number\")\n",
        "elif(b>a and b>c):\n",
        "  print(b,\"is the largest number\")\n",
        "else:\n",
        "  print(c,\"is the largest number\")"
      ],
      "execution_count": 0,
      "outputs": [
        {
          "output_type": "stream",
          "text": [
            "30 is the largest number\n"
          ],
          "name": "stdout"
        }
      ]
    },
    {
      "cell_type": "markdown",
      "metadata": {
        "id": "gqVhklQX_ArQ",
        "colab_type": "text"
      },
      "source": [
        "# WHILE LOOP"
      ]
    },
    {
      "cell_type": "markdown",
      "metadata": {
        "id": "Lkmxg3aT_Jtq",
        "colab_type": "text"
      },
      "source": [
        " **FIND THE PRODUCT OF ALL NUMBERS PRESENT IN A LIST**"
      ]
    },
    {
      "cell_type": "code",
      "metadata": {
        "id": "73mCaWo9y7kC",
        "colab_type": "code",
        "outputId": "86eee81a-21ac-4484-d8d1-681f6191b851",
        "colab": {
          "base_uri": "https://localhost:8080/",
          "height": 34
        }
      },
      "source": [
        "l=[10,20,30,4,50]\n",
        "p=1\n",
        "i=0\n",
        "while i<len(l):\n",
        "  p=p*l[i]\n",
        "  i=i+1\n",
        "print(\"Product is {pro}\".format(pro=p))"
      ],
      "execution_count": 0,
      "outputs": [
        {
          "output_type": "stream",
          "text": [
            "Product is 12000000\n"
          ],
          "name": "stdout"
        }
      ]
    },
    {
      "cell_type": "markdown",
      "metadata": {
        "id": "eD0KK0qNAPzI",
        "colab_type": "text"
      },
      "source": [
        "**WHILE LOOP WITH ELSE**"
      ]
    },
    {
      "cell_type": "code",
      "metadata": {
        "id": "TRbLTVb0AgNP",
        "colab_type": "code",
        "outputId": "6efec184-f026-4982-db41-1f2d5c4e804a",
        "colab": {
          "base_uri": "https://localhost:8080/",
          "height": 101
        }
      },
      "source": [
        "l1=[10,20,30,40]\n",
        "i=0\n",
        "while i<len(l1):\n",
        "  print(l1[i])\n",
        "  i=i+1\n",
        "else:\n",
        "  print(\"All elements present in a list are printed\")"
      ],
      "execution_count": 0,
      "outputs": [
        {
          "output_type": "stream",
          "text": [
            "10\n",
            "20\n",
            "30\n",
            "40\n",
            "All elements present in a list are printed\n"
          ],
          "name": "stdout"
        }
      ]
    },
    {
      "cell_type": "markdown",
      "metadata": {
        "id": "eLoC4dENEMrl",
        "colab_type": "text"
      },
      "source": [
        "**PRIME NUMBER**"
      ]
    },
    {
      "cell_type": "code",
      "metadata": {
        "id": "qV58TCjlA5BY",
        "colab_type": "code",
        "colab": {}
      },
      "source": [
        "num=int(input(\"Enter a number:-\"))\n",
        "i=2\n",
        "Divisible=False\n",
        "while (i<num):\n",
        "  if(num%i==0):\n",
        "    Divisible=True\n",
        "    print(\"{} is divisible by {}\".format(num,i))\n",
        "    i=i+1\n",
        "if(Divisible):\n",
        "  print(\"{} is not a prime number\".format(num))\n",
        "else:\n",
        "  print(\"{} is a prime number\".format(num))"
      ],
      "execution_count": 0,
      "outputs": []
    },
    {
      "cell_type": "markdown",
      "metadata": {
        "id": "G3aRfrOoMCQI",
        "colab_type": "text"
      },
      "source": [
        "# FOR LOOP"
      ]
    },
    {
      "cell_type": "markdown",
      "metadata": {
        "id": "-tUfI7htMEtm",
        "colab_type": "text"
      },
      "source": [
        "**PRODUCT OF ALL THE ELEMENTS IN A LIST**"
      ]
    },
    {
      "cell_type": "code",
      "metadata": {
        "id": "Q5XtbK0JGHYB",
        "colab_type": "code",
        "colab": {}
      },
      "source": [
        "l2=[1,2,3,4,5,6]\n",
        "p=1\n",
        "for i in l2:\n",
        "  p=p*i\n",
        "print(\"The product of elements is {}\".format(p))"
      ],
      "execution_count": 0,
      "outputs": []
    },
    {
      "cell_type": "markdown",
      "metadata": {
        "id": "7QNe844zMqgW",
        "colab_type": "text"
      },
      "source": [
        "**RANGE FUNCTION**"
      ]
    },
    {
      "cell_type": "code",
      "metadata": {
        "id": "1VtxoYBjMYcv",
        "colab_type": "code",
        "colab": {}
      },
      "source": [
        "for i in range(10):\n",
        "  print(i)"
      ],
      "execution_count": 0,
      "outputs": []
    },
    {
      "cell_type": "code",
      "metadata": {
        "id": "2cxHx6OfNVA9",
        "colab_type": "code",
        "colab": {}
      },
      "source": [
        "for j in range(1,21,2)\n",
        "print(j)"
      ],
      "execution_count": 0,
      "outputs": []
    },
    {
      "cell_type": "code",
      "metadata": {
        "id": "tGEJcDluNe0J",
        "colab_type": "code",
        "colab": {}
      },
      "source": [
        "l3=[\"Sakshi\",\"Saksham\",\"Reena\",\"Sanjeev\",\"Shraddha\"]\n",
        "for k in l3:\n",
        "  print(k)"
      ],
      "execution_count": 0,
      "outputs": []
    },
    {
      "cell_type": "code",
      "metadata": {
        "id": "g4Isy74nOHQT",
        "colab_type": "code",
        "colab": {}
      },
      "source": [
        "for l in range(len(l3)):\n",
        "  print(l3[l])"
      ],
      "execution_count": 0,
      "outputs": []
    },
    {
      "cell_type": "markdown",
      "metadata": {
        "id": "Xw7cqhbIPpwn",
        "colab_type": "text"
      },
      "source": [
        "**PRINT THE PRIME NUMBERS WITHIN A RANGE**"
      ]
    },
    {
      "cell_type": "code",
      "metadata": {
        "id": "urCtPbkrOMbe",
        "colab_type": "code",
        "colab": {}
      },
      "source": [
        "start=int(input(\"Enter the starting limit:-\"))\n",
        "stop=int(input(\"Enter the end limit:-\"))\n",
        "for i in range(start,stop,1):\n",
        "  if(num>1):\n",
        "    Divisible=False\n",
        "    for j in range(2,num+1):\n",
        "    if(num%j==0):\n",
        "      print(\"{} is divisble by {}\".format(num,j))\n",
        "      Divisible=True\n",
        "if(Divisible):\n",
        "  print(\"{} is not a prime number\".format(num))\n",
        "else:\n",
        "  print(num)"
      ],
      "execution_count": 0,
      "outputs": []
    },
    {
      "cell_type": "markdown",
      "metadata": {
        "id": "Y5nNzhljQ6ic",
        "colab_type": "text"
      },
      "source": [
        "**BREAK**"
      ]
    },
    {
      "cell_type": "code",
      "metadata": {
        "id": "GR_eGaXrQqBZ",
        "colab_type": "code",
        "colab": {}
      },
      "source": [
        "n=[1,2,3,4,5,6]\n",
        "for i in n:\n",
        "  if(i==3):\n",
        "    break\n",
        "else:\n",
        "  print(\"IN THE ELSE BODY\")\n",
        "print(\"DONE!!!\")"
      ],
      "execution_count": 0,
      "outputs": []
    },
    {
      "cell_type": "markdown",
      "metadata": {
        "id": "FsC7D6RQRdcD",
        "colab_type": "text"
      },
      "source": [
        "**CONTINUE**"
      ]
    },
    {
      "cell_type": "code",
      "metadata": {
        "id": "z3k4mW_nRZSx",
        "colab_type": "code",
        "colab": {}
      },
      "source": [
        "n=[1,2,3,4,5,6]\n",
        "for i in n:\n",
        "  if(i==3):\n",
        "    continue\n",
        "else:\n",
        "  print(\"IN THE ELSE BODY\")\n",
        "print(\"DONE!!!\")"
      ],
      "execution_count": 0,
      "outputs": []
    },
    {
      "cell_type": "markdown",
      "metadata": {
        "id": "pheoMyaVT-m7",
        "colab_type": "text"
      },
      "source": [
        "# VARIABLES"
      ]
    },
    {
      "cell_type": "markdown",
      "metadata": {
        "id": "fjonxeA1UFsC",
        "colab_type": "text"
      },
      "source": [
        "**VARIABLE ASSIGNMENTS**"
      ]
    },
    {
      "cell_type": "code",
      "metadata": {
        "id": "hM14TCVZRld_",
        "colab_type": "code",
        "colab": {}
      },
      "source": [
        "a=10\n",
        "b=5.5\n",
        "c=\"HELLO\""
      ],
      "execution_count": 0,
      "outputs": []
    },
    {
      "cell_type": "markdown",
      "metadata": {
        "id": "1VPZ5ZRTUNuG",
        "colab_type": "text"
      },
      "source": [
        "**MULTIPLE ASSIGNMENTS**"
      ]
    },
    {
      "cell_type": "code",
      "metadata": {
        "id": "erJV-On4ULB2",
        "colab_type": "code",
        "colab": {}
      },
      "source": [
        "a,b,c=10,5.5,\"HI\""
      ],
      "execution_count": 0,
      "outputs": []
    },
    {
      "cell_type": "code",
      "metadata": {
        "id": "5tP7XKRuU4_5",
        "colab_type": "code",
        "colab": {}
      },
      "source": [
        "a=b=c=10"
      ],
      "execution_count": 0,
      "outputs": []
    },
    {
      "cell_type": "markdown",
      "metadata": {
        "id": "Jx9hmrULU7CS",
        "colab_type": "text"
      },
      "source": [
        "**ADDRESS OF A VARIABLE OR STORAGE LOCATION**"
      ]
    },
    {
      "cell_type": "code",
      "metadata": {
        "id": "jpuXh2efVCyl",
        "colab_type": "code",
        "colab": {}
      },
      "source": [
        "x=500\n",
        "print(id(x))"
      ],
      "execution_count": 0,
      "outputs": []
    },
    {
      "cell_type": "markdown",
      "metadata": {
        "id": "ecoNTlxnYLpQ",
        "colab_type": "text"
      },
      "source": [
        "**DATA TYPES**"
      ]
    },
    {
      "cell_type": "code",
      "metadata": {
        "id": "0_6Gh6VkVE9n",
        "colab_type": "code",
        "colab": {}
      },
      "source": [
        "a=10\n",
        "print(type(a))"
      ],
      "execution_count": 0,
      "outputs": []
    },
    {
      "cell_type": "code",
      "metadata": {
        "id": "ggDDFdZPYQnW",
        "colab_type": "code",
        "colab": {}
      },
      "source": [
        "b=5.5\n",
        "print(type(b))"
      ],
      "execution_count": 0,
      "outputs": []
    },
    {
      "cell_type": "code",
      "metadata": {
        "id": "rJdD4v_QYTI-",
        "colab_type": "code",
        "colab": {}
      },
      "source": [
        "c=\"HI\"\n",
        "print(type(c))"
      ],
      "execution_count": 0,
      "outputs": []
    },
    {
      "cell_type": "code",
      "metadata": {
        "id": "gDVvqCLKYVjI",
        "colab_type": "code",
        "colab": {}
      },
      "source": [
        "d=1+2j\n",
        "print(type(d))"
      ],
      "execution_count": 0,
      "outputs": []
    },
    {
      "cell_type": "code",
      "metadata": {
        "id": "gIfgv87UYY1-",
        "colab_type": "code",
        "colab": {}
      },
      "source": [
        "print(isinstance(10,int))"
      ],
      "execution_count": 0,
      "outputs": []
    },
    {
      "cell_type": "markdown",
      "metadata": {
        "id": "s2FWwKIpbPEW",
        "colab_type": "text"
      },
      "source": [
        "**BOOLEAN**"
      ]
    },
    {
      "cell_type": "code",
      "metadata": {
        "id": "EInRfrs1Z_Rq",
        "colab_type": "code",
        "colab": {}
      },
      "source": [
        "a1=True\n",
        "print(type(a1))"
      ],
      "execution_count": 0,
      "outputs": []
    },
    {
      "cell_type": "markdown",
      "metadata": {
        "id": "a_Hz_brabRJQ",
        "colab_type": "text"
      },
      "source": [
        "**STRINGS**"
      ]
    },
    {
      "cell_type": "code",
      "metadata": {
        "id": "kAjNdh2yaC6r",
        "colab_type": "code",
        "colab": {}
      },
      "source": [
        "v=\"Hiii....I am Sakshi\"\n",
        "print(v)\n",
        "print(type(v))"
      ],
      "execution_count": 0,
      "outputs": []
    },
    {
      "cell_type": "code",
      "metadata": {
        "id": "gBBY8FgObYFX",
        "colab_type": "code",
        "colab": {}
      },
      "source": [
        "print(v[4])"
      ],
      "execution_count": 0,
      "outputs": []
    },
    {
      "cell_type": "code",
      "metadata": {
        "id": "nmrVeWjNba5y",
        "colab_type": "code",
        "colab": {}
      },
      "source": [
        "v1=\"\"\"Nice To Meety You\n",
        "      !!!\"\"\"\n",
        "print(type(v1))\n",
        "print(v1)"
      ],
      "execution_count": 0,
      "outputs": []
    },
    {
      "cell_type": "code",
      "metadata": {
        "id": "1MgjgeDpbv4V",
        "colab_type": "code",
        "colab": {}
      },
      "source": [
        "print(v1[len(v1)-1])"
      ],
      "execution_count": 0,
      "outputs": []
    },
    {
      "cell_type": "code",
      "metadata": {
        "id": "bk6R2sSAb4-A",
        "colab_type": "code",
        "colab": {}
      },
      "source": [
        "print(v1[3:6])\n",
        "print(v1[:9])\n",
        "print(v1[3:])"
      ],
      "execution_count": 0,
      "outputs": []
    },
    {
      "cell_type": "markdown",
      "metadata": {
        "id": "hHnTdOSocXXh",
        "colab_type": "text"
      },
      "source": [
        "**COVERSION BETWEEN DATATYPES**"
      ]
    },
    {
      "cell_type": "code",
      "metadata": {
        "id": "IH8DhNJ2b7hN",
        "colab_type": "code",
        "colab": {}
      },
      "source": [
        "float(5)"
      ],
      "execution_count": 0,
      "outputs": []
    },
    {
      "cell_type": "code",
      "metadata": {
        "id": "uBDXPLSHcs_9",
        "colab_type": "code",
        "colab": {}
      },
      "source": [
        "int(10.56)"
      ],
      "execution_count": 0,
      "outputs": []
    },
    {
      "cell_type": "code",
      "metadata": {
        "id": "hyghqTFYcuSA",
        "colab_type": "code",
        "colab": {}
      },
      "source": [
        "str(50.6)"
      ],
      "execution_count": 0,
      "outputs": []
    },
    {
      "cell_type": "code",
      "metadata": {
        "id": "KzyIlLn2cv-3",
        "colab_type": "code",
        "colab": {}
      },
      "source": [
        "int(\"34.6\")"
      ],
      "execution_count": 0,
      "outputs": []
    },
    {
      "cell_type": "code",
      "metadata": {
        "id": "J1evBkkpcx2u",
        "colab_type": "code",
        "colab": {}
      },
      "source": [
        "int(\"10v\")"
      ],
      "execution_count": 0,
      "outputs": []
    },
    {
      "cell_type": "code",
      "metadata": {
        "id": "DPO11xD3dAoE",
        "colab_type": "code",
        "colab": {}
      },
      "source": [
        "name=\"sakshi\"\n",
        "l=1002\n",
        "\n",
        "print(\"Congratulations \"+name+\"! You just wrote \"+str(l)+\" lines\")"
      ],
      "execution_count": 0,
      "outputs": []
    },
    {
      "cell_type": "code",
      "metadata": {
        "id": "5kPriVspdQCr",
        "colab_type": "code",
        "colab": {}
      },
      "source": [
        ""
      ],
      "execution_count": 0,
      "outputs": []
    }
  ]
}